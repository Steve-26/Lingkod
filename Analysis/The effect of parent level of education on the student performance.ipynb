{
 "cells": [
  {
   "cell_type": "markdown",
   "id": "c252a71c",
   "metadata": {},
   "source": [
    "# The effect of parent level of education on the student performance\n"
   ]
  },
  {
   "cell_type": "markdown",
   "id": "068bf290",
   "metadata": {},
   "source": [
    "    The educational levels of parents have a beneficial impact on their people's immediate educational successes as well as their educational and vocational achievements when they enter middle adulthood."
   ]
  },
  {
   "cell_type": "markdown",
   "id": "f2f30bfa",
   "metadata": {},
   "source": [
    "<img src=\"parental.gif\">"
   ]
  },
  {
   "cell_type": "code",
   "execution_count": 2,
   "id": "db401bc1",
   "metadata": {},
   "outputs": [],
   "source": [
    "import pandas as pd\n",
    "import numpy as np\n",
    "import matplotlib.pyplot as plt\n",
    "import seaborn as sns"
   ]
  },
  {
   "cell_type": "markdown",
   "id": "438ea974",
   "metadata": {},
   "source": [
    "## Some of the required Python libraries are being imported."
   ]
  },
  {
   "cell_type": "markdown",
   "id": "9921274a",
   "metadata": {},
   "source": [
    "### Extract the data from the csv file."
   ]
  },
  {
   "cell_type": "code",
   "execution_count": 3,
   "id": "bbda60d5",
   "metadata": {},
   "outputs": [
    {
     "data": {
      "text/html": [
       "<div>\n",
       "<style scoped>\n",
       "    .dataframe tbody tr th:only-of-type {\n",
       "        vertical-align: middle;\n",
       "    }\n",
       "\n",
       "    .dataframe tbody tr th {\n",
       "        vertical-align: top;\n",
       "    }\n",
       "\n",
       "    .dataframe thead th {\n",
       "        text-align: right;\n",
       "    }\n",
       "</style>\n",
       "<table border=\"1\" class=\"dataframe\">\n",
       "  <thead>\n",
       "    <tr style=\"text-align: right;\">\n",
       "      <th></th>\n",
       "      <th>gender</th>\n",
       "      <th>race/ethnicity</th>\n",
       "      <th>parental level of education</th>\n",
       "      <th>lunch</th>\n",
       "      <th>test preparation course</th>\n",
       "      <th>math score</th>\n",
       "      <th>reading score</th>\n",
       "      <th>writing score</th>\n",
       "    </tr>\n",
       "  </thead>\n",
       "  <tbody>\n",
       "    <tr>\n",
       "      <th>0</th>\n",
       "      <td>female</td>\n",
       "      <td>group B</td>\n",
       "      <td>bachelor's degree</td>\n",
       "      <td>standard</td>\n",
       "      <td>none</td>\n",
       "      <td>72</td>\n",
       "      <td>72</td>\n",
       "      <td>74</td>\n",
       "    </tr>\n",
       "    <tr>\n",
       "      <th>1</th>\n",
       "      <td>female</td>\n",
       "      <td>group C</td>\n",
       "      <td>some college</td>\n",
       "      <td>standard</td>\n",
       "      <td>completed</td>\n",
       "      <td>69</td>\n",
       "      <td>90</td>\n",
       "      <td>88</td>\n",
       "    </tr>\n",
       "    <tr>\n",
       "      <th>2</th>\n",
       "      <td>female</td>\n",
       "      <td>group B</td>\n",
       "      <td>master's degree</td>\n",
       "      <td>standard</td>\n",
       "      <td>none</td>\n",
       "      <td>90</td>\n",
       "      <td>95</td>\n",
       "      <td>93</td>\n",
       "    </tr>\n",
       "    <tr>\n",
       "      <th>3</th>\n",
       "      <td>male</td>\n",
       "      <td>group A</td>\n",
       "      <td>associate's degree</td>\n",
       "      <td>free/reduced</td>\n",
       "      <td>none</td>\n",
       "      <td>47</td>\n",
       "      <td>57</td>\n",
       "      <td>44</td>\n",
       "    </tr>\n",
       "    <tr>\n",
       "      <th>4</th>\n",
       "      <td>male</td>\n",
       "      <td>group C</td>\n",
       "      <td>some college</td>\n",
       "      <td>standard</td>\n",
       "      <td>none</td>\n",
       "      <td>76</td>\n",
       "      <td>78</td>\n",
       "      <td>75</td>\n",
       "    </tr>\n",
       "  </tbody>\n",
       "</table>\n",
       "</div>"
      ],
      "text/plain": [
       "   gender race/ethnicity parental level of education         lunch  \\\n",
       "0  female        group B           bachelor's degree      standard   \n",
       "1  female        group C                some college      standard   \n",
       "2  female        group B             master's degree      standard   \n",
       "3    male        group A          associate's degree  free/reduced   \n",
       "4    male        group C                some college      standard   \n",
       "\n",
       "  test preparation course  math score  reading score  writing score  \n",
       "0                    none          72             72             74  \n",
       "1               completed          69             90             88  \n",
       "2                    none          90             95             93  \n",
       "3                    none          47             57             44  \n",
       "4                    none          76             78             75  "
      ]
     },
     "execution_count": 3,
     "metadata": {},
     "output_type": "execute_result"
    }
   ],
   "source": [
    "data = pd.read_csv('StudentsPerformance-datasets.csv')\n",
    "data.head()"
   ]
  },
  {
   "cell_type": "code",
   "execution_count": 4,
   "id": "735da714",
   "metadata": {},
   "outputs": [
    {
     "data": {
      "text/plain": [
       "(1000, 8)"
      ]
     },
     "execution_count": 4,
     "metadata": {},
     "output_type": "execute_result"
    }
   ],
   "source": [
    "data.shape\n",
    "(1000, 8)"
   ]
  },
  {
   "cell_type": "markdown",
   "id": "2ec4d7c3",
   "metadata": {},
   "source": [
    "### Let's just see whether there are any missing values in the data."
   ]
  },
  {
   "cell_type": "code",
   "execution_count": 5,
   "id": "f6bd465f",
   "metadata": {
    "scrolled": true
   },
   "outputs": [
    {
     "data": {
      "text/plain": [
       "gender                         0\n",
       "race/ethnicity                 0\n",
       "parental level of education    0\n",
       "lunch                          0\n",
       "test preparation course        0\n",
       "math score                     0\n",
       "reading score                  0\n",
       "writing score                  0\n",
       "dtype: int64"
      ]
     },
     "execution_count": 5,
     "metadata": {},
     "output_type": "execute_result"
    }
   ],
   "source": [
    "data.isnull().sum()\n"
   ]
  },
  {
   "cell_type": "markdown",
   "id": "2d64d4f6",
   "metadata": {},
   "source": [
    " ### This are the datatype of all the column values"
   ]
  },
  {
   "cell_type": "code",
   "execution_count": 6,
   "id": "4d91dee0",
   "metadata": {
    "scrolled": true
   },
   "outputs": [
    {
     "data": {
      "text/plain": [
       "gender                         0\n",
       "race/ethnicity                 0\n",
       "parental level of education    0\n",
       "lunch                          0\n",
       "test preparation course        0\n",
       "math score                     0\n",
       "reading score                  0\n",
       "writing score                  0\n",
       "dtype: int64"
      ]
     },
     "execution_count": 6,
     "metadata": {},
     "output_type": "execute_result"
    }
   ],
   "source": [
    "data.isnull().sum()"
   ]
  },
  {
   "cell_type": "markdown",
   "id": "180557f6",
   "metadata": {},
   "source": [
    "### This is the Comparison of Parental Education"
   ]
  },
  {
   "cell_type": "code",
   "execution_count": 7,
   "id": "95f80e79",
   "metadata": {},
   "outputs": [
    {
     "data": {
      "image/png": "[encoded data removed]",
      "text/plain": [
       "<Figure size 1080x360 with 1 Axes>"
      ]
     },
     "metadata": {
      "needs_background": "light"
     },
     "output_type": "display_data"
    }
   ],
   "source": [
    "plt.subplots(figsize=(15,5))\n",
    "data['parental level of education'].value_counts(normalize = True)\n",
    "data['parental level of education'].value_counts(dropna = False).plot.bar(color=['black' , 'red' , 'green' ,  'blue' , 'cyan'])\n",
    "plt.title('Comparison of Parental Education')\n",
    "plt.xlabel('Degree')\n",
    "plt.xlabel('count')\n",
    "plt.show()"
   ]
  },
  {
   "cell_type": "markdown",
   "id": "71e44914",
   "metadata": {},
   "source": [
    "### According to the data above, just 6% of the parents have a Master's degree. A higher percentage of parents hold a bachelor's or associate's degree."
   ]
  },
  {
   "cell_type": "code",
   "execution_count": 8,
   "id": "33476b3f",
   "metadata": {},
   "outputs": [],
   "source": [
    "data['total'] = data['math score'] + data['reading score'] + data['writing score']\n",
    "data['average'] = data['total'] / 3"
   ]
  },
  {
   "cell_type": "markdown",
   "id": "f755de34",
   "metadata": {},
   "source": [
    "### Let’s see the class distribution of students' performance in math, reading, and writing subjects"
   ]
  },
  {
   "cell_type": "code",
   "execution_count": 9,
   "id": "b05c4121",
   "metadata": {},
   "outputs": [],
   "source": [
    "data['math_PassStatus'] = np.where(data['math score']<40, 'F', 'P')\n",
    "data['read_PassStatus'] = np.where(data['reading score']<40, 'F', 'P')\n",
    "data['write_PassStatus'] = np.where(data['writing score']<40, 'F', 'P')"
   ]
  },
  {
   "cell_type": "markdown",
   "id": "3a2f1617",
   "metadata": {},
   "source": [
    "### Let's check at the write performance range by degree."
   ]
  },
  {
   "cell_type": "code",
   "execution_count": 14,
   "id": "7e62cd57",
   "metadata": {},
   "outputs": [
    {
     "data": {
      "image/png": "[encoded data removed]",
      "text/plain": [
       "<Figure size 1296x576 with 1 Axes>"
      ]
     },
     "metadata": {
      "needs_background": "light"
     },
     "output_type": "display_data"
    }
   ],
   "source": [
    "fig = plt.figure(figsize = (18, 8))\n",
    "p = sns.countplot(x='parental level of education', data = data, hue='write_PassStatus', palette='bright')\n",
    "_ = plt.setp(p.get_xticklabels(), rotation=90)"
   ]
  },
  {
   "cell_type": "markdown",
   "id": "b5e09fb6",
   "metadata": {},
   "source": [
    "### Let's check at the math performance range by class."
   ]
  },
  {
   "cell_type": "code",
   "execution_count": 15,
   "id": "e7d49c83",
   "metadata": {},
   "outputs": [
    {
     "data": {
      "image/png": "[encoded data removed]",
      "text/plain": [
       "<Figure size 1296x576 with 1 Axes>"
      ]
     },
     "metadata": {
      "needs_background": "light"
     },
     "output_type": "display_data"
    }
   ],
   "source": [
    "fig = plt.figure(figsize = (18, 8))\n",
    "p = sns.countplot(x='parental level of education', data = data, hue='math_PassStatus', palette='bright')\n",
    "_ = plt.setp(p.get_xticklabels(), rotation=90)"
   ]
  },
  {
   "cell_type": "markdown",
   "id": "0156490d",
   "metadata": {},
   "source": [
    "### Let's check at the read performance range by class."
   ]
  },
  {
   "cell_type": "code",
   "execution_count": 16,
   "id": "48f8b960",
   "metadata": {},
   "outputs": [
    {
     "data": {
      "image/png": "[encoded data removed]",
      "text/plain": [
       "<Figure size 1296x576 with 1 Axes>"
      ]
     },
     "metadata": {
      "needs_background": "light"
     },
     "output_type": "display_data"
    }
   ],
   "source": [
    "fig = plt.figure(figsize = (18, 8))\n",
    "p = sns.countplot(x='parental level of education', data = data, hue='read_PassStatus', palette='bright')\n",
    "_ = plt.setp(p.get_xticklabels(), rotation=90)"
   ]
  }
 ],
 "metadata": {
  "kernelspec": {
   "display_name": "Python 3 (ipykernel)",
   "language": "python",
   "name": "python3"
  },
  "language_info": {
   "codemirror_mode": {
    "name": "ipython",
    "version": 3
   },
   "file_extension": ".py",
   "mimetype": "text/x-python",
   "name": "python",
   "nbconvert_exporter": "python",
   "pygments_lexer": "ipython3",
   "version": "3.10.4"
  }
 },
 "nbformat": 4,
 "nbformat_minor": 5
}
